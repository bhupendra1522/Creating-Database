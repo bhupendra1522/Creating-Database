{
 "cells": [
  {
   "cell_type": "markdown",
   "id": "3ec75a54",
   "metadata": {},
   "source": [
    "Database will be created in the given location"
   ]
  },
  {
   "cell_type": "code",
   "execution_count": 13,
   "id": "61bd4bc1",
   "metadata": {},
   "outputs": [],
   "source": [
    "import sqlite3"
   ]
  },
  {
   "cell_type": "code",
   "execution_count": 14,
   "id": "edaaf65a",
   "metadata": {},
   "outputs": [],
   "source": [
    "db1=sqlite3.connect(\"E:/bhupendra/28augstudent.db\")"
   ]
  },
  {
   "cell_type": "code",
   "execution_count": 15,
   "id": "9c5b1cac",
   "metadata": {},
   "outputs": [],
   "source": [
    "cur1=db1.cursor()"
   ]
  },
  {
   "cell_type": "code",
   "execution_count": 16,
   "id": "1f122e8c",
   "metadata": {},
   "outputs": [
    {
     "ename": "OperationalError",
     "evalue": "table employee already exists",
     "output_type": "error",
     "traceback": [
      "\u001b[1;31m---------------------------------------------------------------------------\u001b[0m",
      "\u001b[1;31mOperationalError\u001b[0m                          Traceback (most recent call last)",
      "Input \u001b[1;32mIn [16]\u001b[0m, in \u001b[0;36m<cell line: 1>\u001b[1;34m()\u001b[0m\n\u001b[1;32m----> 1\u001b[0m \u001b[43mcur1\u001b[49m\u001b[38;5;241;43m.\u001b[39;49m\u001b[43mexecute\u001b[49m\u001b[43m(\u001b[49m\u001b[38;5;124;43m\"\u001b[39;49m\u001b[38;5;124;43mcreate table employee(id int,name text,age int)\u001b[39;49m\u001b[38;5;124;43m\"\u001b[39;49m\u001b[43m)\u001b[49m\n",
      "\u001b[1;31mOperationalError\u001b[0m: table employee already exists"
     ]
    }
   ],
   "source": [
    "cur1.execute(\"create table employee(id int,name text,age int)\")"
   ]
  },
  {
   "cell_type": "code",
   "execution_count": 17,
   "id": "189f50ca",
   "metadata": {},
   "outputs": [],
   "source": [
    "# csv (coma separeted value)\n"
   ]
  },
  {
   "cell_type": "markdown",
   "id": "92963de7",
   "metadata": {},
   "source": [
    "# Adding data in table with csv(comma separated values) file directly"
   ]
  },
  {
   "cell_type": "code",
   "execution_count": 18,
   "id": "ab906552",
   "metadata": {},
   "outputs": [],
   "source": [
    "import sqlite3"
   ]
  },
  {
   "cell_type": "code",
   "execution_count": 19,
   "id": "71a0a527",
   "metadata": {},
   "outputs": [],
   "source": [
    "db=sqlite3.connect(\"E:/bhupendra/scores_database.db\")\n",
    "\n",
    "# Declare curser\n",
    "cursor = db.cursor()"
   ]
  },
  {
   "cell_type": "code",
   "execution_count": 20,
   "id": "469679c6",
   "metadata": {},
   "outputs": [
    {
     "ename": "OperationalError",
     "evalue": "table scores already exists",
     "output_type": "error",
     "traceback": [
      "\u001b[1;31m---------------------------------------------------------------------------\u001b[0m",
      "\u001b[1;31mOperationalError\u001b[0m                          Traceback (most recent call last)",
      "Input \u001b[1;32mIn [20]\u001b[0m, in \u001b[0;36m<cell line: 2>\u001b[1;34m()\u001b[0m\n\u001b[0;32m      1\u001b[0m \u001b[38;5;66;03m# create table\u001b[39;00m\n\u001b[1;32m----> 2\u001b[0m \u001b[43mcursor\u001b[49m\u001b[38;5;241;43m.\u001b[39;49m\u001b[43mexecute\u001b[49m\u001b[43m(\u001b[49m\u001b[38;5;124;43m\"\u001b[39;49m\u001b[38;5;124;43mCREATE TABLE scores(gender TEXT, student_id INT PRIMARY KEY, marks INT)\u001b[39;49m\u001b[38;5;124;43m\"\u001b[39;49m\u001b[43m)\u001b[49m\n",
      "\u001b[1;31mOperationalError\u001b[0m: table scores already exists"
     ]
    }
   ],
   "source": [
    "# create table\n",
    "cursor.execute(\"CREATE TABLE scores(gender TEXT, student_id INT PRIMARY KEY, marks INT)\")"
   ]
  },
  {
   "cell_type": "code",
   "execution_count": 21,
   "id": "efa56712",
   "metadata": {},
   "outputs": [
    {
     "ename": "IntegrityError",
     "evalue": "UNIQUE constraint failed: scores.student_id",
     "output_type": "error",
     "traceback": [
      "\u001b[1;31m---------------------------------------------------------------------------\u001b[0m",
      "\u001b[1;31mIntegrityError\u001b[0m                            Traceback (most recent call last)",
      "Input \u001b[1;32mIn [21]\u001b[0m, in \u001b[0;36m<cell line: 2>\u001b[1;34m()\u001b[0m\n\u001b[0;32m      1\u001b[0m \u001b[38;5;66;03m# insert records in to the table. (single record inserting)\u001b[39;00m\n\u001b[1;32m----> 2\u001b[0m \u001b[43mcursor\u001b[49m\u001b[38;5;241;43m.\u001b[39;49m\u001b[43mexecute\u001b[49m\u001b[43m(\u001b[49m\u001b[38;5;124;43m\"\u001b[39;49m\u001b[38;5;124;43mINSERT INTO scores(gender, student_id, marks) values(\u001b[39;49m\u001b[38;5;124;43m'\u001b[39;49m\u001b[38;5;124;43mmale\u001b[39;49m\u001b[38;5;124;43m'\u001b[39;49m\u001b[38;5;124;43m, 100, 55)\u001b[39;49m\u001b[38;5;124;43m\"\u001b[39;49m\u001b[43m)\u001b[49m\n\u001b[0;32m      4\u001b[0m \u001b[38;5;66;03m# save the rocord permenently. ( if you dont commit, text time you will not see the rocord in the table)\u001b[39;00m\n\u001b[0;32m      5\u001b[0m db\u001b[38;5;241m.\u001b[39mcommit()\n",
      "\u001b[1;31mIntegrityError\u001b[0m: UNIQUE constraint failed: scores.student_id"
     ]
    }
   ],
   "source": [
    "# insert records in to the table. (single record inserting)\n",
    "cursor.execute(\"INSERT INTO scores(gender, student_id, marks) values('male', 100, 55)\")\n",
    "\n",
    "# save the rocord permenently. ( if you dont commit, text time you will not see the rocord in the table)\n",
    "db.commit()\n",
    "\n",
    "# Count of records inserted\n",
    "print(cursor.rowcount,\"record(s) inserted\")"
   ]
  },
  {
   "cell_type": "markdown",
   "id": "c94a2d69",
   "metadata": {},
   "source": [
    "# Inserting records from cvs file¶"
   ]
  },
  {
   "cell_type": "code",
   "execution_count": null,
   "id": "156fa2f2",
   "metadata": {},
   "outputs": [],
   "source": []
  },
  {
   "cell_type": "code",
   "execution_count": 22,
   "id": "78ca61d1",
   "metadata": {},
   "outputs": [
    {
     "ename": "IntegrityError",
     "evalue": "UNIQUE constraint failed: scores.student_id",
     "output_type": "error",
     "traceback": [
      "\u001b[1;31m---------------------------------------------------------------------------\u001b[0m",
      "\u001b[1;31mIntegrityError\u001b[0m                            Traceback (most recent call last)",
      "Input \u001b[1;32mIn [22]\u001b[0m, in \u001b[0;36m<cell line: 1>\u001b[1;34m()\u001b[0m\n\u001b[0;32m      2\u001b[0m total_records\u001b[38;5;241m=\u001b[39m\u001b[38;5;241m0\u001b[39m\n\u001b[0;32m      3\u001b[0m \u001b[38;5;28;01mfor\u001b[39;00m row \u001b[38;5;129;01min\u001b[39;00m file:\n\u001b[1;32m----> 4\u001b[0m     \u001b[43mcursor\u001b[49m\u001b[38;5;241;43m.\u001b[39;49m\u001b[43mexecute\u001b[49m\u001b[43m(\u001b[49m\u001b[38;5;124;43m\"\u001b[39;49m\u001b[38;5;124;43minsert into scores values(?,?,?)\u001b[39;49m\u001b[38;5;124;43m\"\u001b[39;49m\u001b[43m,\u001b[49m\u001b[43mrow\u001b[49m\u001b[38;5;241;43m.\u001b[39;49m\u001b[43msplit\u001b[49m\u001b[43m(\u001b[49m\u001b[38;5;124;43m\"\u001b[39;49m\u001b[38;5;124;43m,\u001b[39;49m\u001b[38;5;124;43m\"\u001b[39;49m\u001b[43m)\u001b[49m\u001b[43m)\u001b[49m\n\u001b[0;32m      5\u001b[0m     db\u001b[38;5;241m.\u001b[39mcommit()\n\u001b[0;32m      6\u001b[0m     total_records\u001b[38;5;241m+\u001b[39m\u001b[38;5;241m=\u001b[39m\u001b[38;5;241m1\u001b[39m\n",
      "\u001b[1;31mIntegrityError\u001b[0m: UNIQUE constraint failed: scores.student_id"
     ]
    }
   ],
   "source": [
    "with open('Scores_file.csv','r') as file:\n",
    "    total_records=0\n",
    "    for row in file:\n",
    "        cursor.execute(\"insert into scores values(?,?,?)\",row.split(\",\"))\n",
    "        db.commit()\n",
    "        total_records+=1\n",
    "print(total_records,'Records inserted')"
   ]
  },
  {
   "cell_type": "code",
   "execution_count": 23,
   "id": "6a6b36d3",
   "metadata": {},
   "outputs": [
    {
     "name": "stdout",
     "output_type": "stream",
     "text": [
      "('male', 100, 55)\n",
      "('male', 104, 56)\n",
      "('male', 105, 78)\n",
      "('female', 106, 36)\n",
      "('male', 107, 20)\n",
      "('female', 108, 98)\n",
      "('male', 109, 85)\n",
      "('female', 110, 69)\n",
      "('male', 111, 46)\n",
      "('female', 112, 66)\n",
      "('male', 113, 91)\n",
      "('male', 114, 48)\n",
      "('male', 115, 56)\n",
      "('female', 116, 67)\n",
      "('male', 117, 78)\n",
      "('male', 118, 89)\n",
      "('male', 119, 32)\n",
      "('female', 120, 44)\n"
     ]
    }
   ],
   "source": [
    "result = cursor.execute(\"SELECT * FROM scores\")\n",
    "for row in result:\n",
    "    print(row)"
   ]
  },
  {
   "cell_type": "code",
   "execution_count": 24,
   "id": "b1aee591",
   "metadata": {},
   "outputs": [
    {
     "name": "stdout",
     "output_type": "stream",
     "text": [
      "('male', 104, 56)\n"
     ]
    }
   ],
   "source": [
    "sql = \"SELECT * from scores WHERE student_id = 104\"\n",
    "result = cursor.execute(sql)\n",
    "for row in result:\n",
    "    print(row)"
   ]
  },
  {
   "cell_type": "code",
   "execution_count": 25,
   "id": "2a582992",
   "metadata": {},
   "outputs": [
    {
     "name": "stdout",
     "output_type": "stream",
     "text": [
      "('female', 108, 98)\n",
      "('male', 113, 91)\n",
      "('male', 118, 89)\n",
      "('male', 109, 85)\n",
      "('male', 105, 78)\n",
      "('male', 117, 78)\n",
      "('female', 110, 69)\n",
      "('female', 116, 67)\n",
      "('female', 112, 66)\n",
      "('male', 104, 56)\n",
      "('male', 115, 56)\n",
      "('male', 100, 55)\n",
      "('male', 114, 48)\n",
      "('male', 111, 46)\n",
      "('female', 120, 44)\n",
      "('female', 106, 36)\n",
      "('male', 119, 32)\n",
      "('male', 107, 20)\n"
     ]
    }
   ],
   "source": [
    "# how to change the order of records (Incresing or decresing)\n",
    "result = cursor.execute(\"SELECT * FROM scores ORDER BY marks desc\")\n",
    "for row in result:\n",
    "    print(row)"
   ]
  },
  {
   "cell_type": "code",
   "execution_count": 26,
   "id": "e94554e5",
   "metadata": {},
   "outputs": [
    {
     "name": "stdout",
     "output_type": "stream",
     "text": [
      "minimum marks =  (20,)\n"
     ]
    }
   ],
   "source": [
    "# MiX\n",
    "result = cursor.execute(\"SELECT MIN(marks) FROM scores\")\n",
    "print ('minimum marks = ', result.fetchone())"
   ]
  },
  {
   "cell_type": "code",
   "execution_count": 27,
   "id": "f3b3b255",
   "metadata": {},
   "outputs": [
    {
     "name": "stdout",
     "output_type": "stream",
     "text": [
      "maximum marks =  (98,)\n"
     ]
    }
   ],
   "source": [
    "# MAX\n",
    "result = cursor.execute(\"SELECT MAX(marks) FROM scores\")\n",
    "print ('maximum marks = ', result.fetchone())"
   ]
  },
  {
   "cell_type": "code",
   "execution_count": 28,
   "id": "1fe41ad5",
   "metadata": {},
   "outputs": [],
   "source": [
    "# db.close()"
   ]
  },
  {
   "cell_type": "code",
   "execution_count": null,
   "id": "3fa8b174",
   "metadata": {},
   "outputs": [],
   "source": []
  },
  {
   "cell_type": "markdown",
   "id": "697c6eff",
   "metadata": {},
   "source": [
    "# Exercise 2 SQlite3"
   ]
  },
  {
   "cell_type": "code",
   "execution_count": 29,
   "id": "3a48cf0e",
   "metadata": {},
   "outputs": [],
   "source": [
    "import sqlite3"
   ]
  },
  {
   "cell_type": "markdown",
   "id": "22d54a7e",
   "metadata": {},
   "source": [
    "Adding date in table"
   ]
  },
  {
   "cell_type": "code",
   "execution_count": 30,
   "id": "377228c5",
   "metadata": {},
   "outputs": [],
   "source": [
    "db=sqlite3.connect(\"E:/bhupendra/sport_database.db\")"
   ]
  },
  {
   "cell_type": "code",
   "execution_count": 31,
   "id": "d146c338",
   "metadata": {},
   "outputs": [],
   "source": [
    "cur=db.cursor()"
   ]
  },
  {
   "cell_type": "raw",
   "id": "9ac62457",
   "metadata": {},
   "source": [
    "constrains ----\n",
    "unique --enter only unique value , no duplicate values\n",
    "not null -- no blank values can be inserted in table"
   ]
  },
  {
   "cell_type": "code",
   "execution_count": 32,
   "id": "166f1f1c",
   "metadata": {},
   "outputs": [
    {
     "ename": "OperationalError",
     "evalue": "table sport already exists",
     "output_type": "error",
     "traceback": [
      "\u001b[1;31m---------------------------------------------------------------------------\u001b[0m",
      "\u001b[1;31mOperationalError\u001b[0m                          Traceback (most recent call last)",
      "Input \u001b[1;32mIn [32]\u001b[0m, in \u001b[0;36m<cell line: 1>\u001b[1;34m()\u001b[0m\n\u001b[1;32m----> 1\u001b[0m \u001b[43mcur\u001b[49m\u001b[38;5;241;43m.\u001b[39;49m\u001b[43mexecute\u001b[49m\u001b[43m(\u001b[49m\u001b[38;5;124;43m\"\u001b[39;49m\u001b[38;5;124;43mcreate table sport (id int primary key,sportname text unique,dateofevent date, country text not null)\u001b[39;49m\u001b[38;5;124;43m\"\u001b[39;49m\u001b[43m)\u001b[49m\n",
      "\u001b[1;31mOperationalError\u001b[0m: table sport already exists"
     ]
    }
   ],
   "source": [
    "cur.execute(\"create table sport (id int primary key,sportname text unique,dateofevent date, country text not null)\")"
   ]
  },
  {
   "cell_type": "code",
   "execution_count": 33,
   "id": "79a963c1",
   "metadata": {},
   "outputs": [
    {
     "data": {
      "text/plain": [
       "<sqlite3.Cursor at 0x2026e5a5490>"
      ]
     },
     "execution_count": 33,
     "metadata": {},
     "output_type": "execute_result"
    }
   ],
   "source": [
    "cur.execute(\"insert into sport values(1,'cricket','2021-11-9','england')\")"
   ]
  },
  {
   "cell_type": "raw",
   "id": "1bfff5d8",
   "metadata": {},
   "source": [
    "#this line will throw error as sportname is duplicate ---unique constraint failed\n",
    "\n",
    "#cur.execute(\"insert into sport value(2,'cricket','2018-08-02','srilanka')\")"
   ]
  },
  {
   "cell_type": "code",
   "execution_count": 34,
   "id": "ad0a606a",
   "metadata": {},
   "outputs": [
    {
     "name": "stdout",
     "output_type": "stream",
     "text": [
      "1 record(s) inserted \n"
     ]
    }
   ],
   "source": [
    "cur.execute(\"insert into sport values(2,'tennis','2018-08-02','srilanka')\")\n",
    "print(cur.rowcount,\"record(s) inserted \")"
   ]
  },
  {
   "cell_type": "code",
   "execution_count": 35,
   "id": "07bc1bee",
   "metadata": {},
   "outputs": [
    {
     "data": {
      "text/plain": [
       "[(1, 'cricket', '2021-11-9', 'england'),\n",
       " (2, 'tennis', '2018-08-02', 'srilanka')]"
      ]
     },
     "execution_count": 35,
     "metadata": {},
     "output_type": "execute_result"
    }
   ],
   "source": [
    "results=cur.execute('select * from sport')\n",
    "\n",
    "results.fetchall()"
   ]
  },
  {
   "cell_type": "raw",
   "id": "e3bc9d27",
   "metadata": {},
   "source": [
    "#this query throw error : not null constrint : can not leave any field blank\n",
    "\n",
    "#cur.execute(\"insert in to sport values(3,'football','2022-05-30',null)\")"
   ]
  },
  {
   "cell_type": "code",
   "execution_count": 36,
   "id": "8d2a10db",
   "metadata": {},
   "outputs": [],
   "source": [
    "results =cur.execute(\"insert into sport values(3,'football','2022-05-30','australia')\")\n",
    "db.commit;\n"
   ]
  },
  {
   "cell_type": "code",
   "execution_count": 37,
   "id": "86ce9f4f",
   "metadata": {},
   "outputs": [
    {
     "data": {
      "text/plain": [
       "[(1, 'cricket', '2021-11-9', 'england'),\n",
       " (2, 'tennis', '2018-08-02', 'srilanka'),\n",
       " (3, 'football', '2022-05-30', 'australia')]"
      ]
     },
     "execution_count": 37,
     "metadata": {},
     "output_type": "execute_result"
    }
   ],
   "source": [
    "results=cur.execute('select * from sport')\n",
    "\n",
    "results.fetchall()"
   ]
  },
  {
   "cell_type": "markdown",
   "id": "dc5f4aec",
   "metadata": {},
   "source": [
    "# Epmloyee database with DB and pythone programmatically"
   ]
  },
  {
   "cell_type": "code",
   "execution_count": 70,
   "id": "af319f06",
   "metadata": {},
   "outputs": [],
   "source": [
    "import sqlite3"
   ]
  },
  {
   "cell_type": "code",
   "execution_count": 84,
   "id": "b5d7617a",
   "metadata": {},
   "outputs": [],
   "source": [
    "con=sqlite3.connect(\"E:/bhupendra/employee_databas.db\")"
   ]
  },
  {
   "cell_type": "code",
   "execution_count": 85,
   "id": "6eaa40c7",
   "metadata": {},
   "outputs": [],
   "source": [
    "def sql_table(con):\n",
    "    cur=con.cursor()\n",
    "    cur.execute(\"create table employee(id integer primary key,name text,salary real,department text,position text,hiredate date)\")\n",
    "    con.commit()"
   ]
  },
  {
   "cell_type": "code",
   "execution_count": 116,
   "id": "9c40397c",
   "metadata": {},
   "outputs": [],
   "source": [
    "cur=con.cursor()"
   ]
  },
  {
   "cell_type": "code",
   "execution_count": 117,
   "id": "239e950a",
   "metadata": {},
   "outputs": [
    {
     "ename": "OperationalError",
     "evalue": "table employee already exists",
     "output_type": "error",
     "traceback": [
      "\u001b[1;31m---------------------------------------------------------------------------\u001b[0m",
      "\u001b[1;31mOperationalError\u001b[0m                          Traceback (most recent call last)",
      "Input \u001b[1;32mIn [117]\u001b[0m, in \u001b[0;36m<cell line: 3>\u001b[1;34m()\u001b[0m\n\u001b[0;32m      1\u001b[0m \u001b[38;5;66;03m#calling function\u001b[39;00m\n\u001b[1;32m----> 3\u001b[0m \u001b[43msql_table\u001b[49m\u001b[43m(\u001b[49m\u001b[43mcon\u001b[49m\u001b[43m)\u001b[49m\n",
      "Input \u001b[1;32mIn [85]\u001b[0m, in \u001b[0;36msql_table\u001b[1;34m(con)\u001b[0m\n\u001b[0;32m      1\u001b[0m \u001b[38;5;28;01mdef\u001b[39;00m \u001b[38;5;21msql_table\u001b[39m(con):\n\u001b[0;32m      2\u001b[0m     cur\u001b[38;5;241m=\u001b[39mcon\u001b[38;5;241m.\u001b[39mcursor()\n\u001b[1;32m----> 3\u001b[0m     \u001b[43mcur\u001b[49m\u001b[38;5;241;43m.\u001b[39;49m\u001b[43mexecute\u001b[49m\u001b[43m(\u001b[49m\u001b[38;5;124;43m\"\u001b[39;49m\u001b[38;5;124;43mcreate table employee(id integer primary key,name text,salary real,department text,position text,hiredate date)\u001b[39;49m\u001b[38;5;124;43m\"\u001b[39;49m\u001b[43m)\u001b[49m\n\u001b[0;32m      4\u001b[0m     con\u001b[38;5;241m.\u001b[39mcommit()\n",
      "\u001b[1;31mOperationalError\u001b[0m: table employee already exists"
     ]
    }
   ],
   "source": [
    "#calling function\n",
    "\n",
    "sql_table(con)"
   ]
  },
  {
   "cell_type": "code",
   "execution_count": 118,
   "id": "fac955f5",
   "metadata": {},
   "outputs": [
    {
     "ename": "IntegrityError",
     "evalue": "UNIQUE constraint failed: employee.id",
     "output_type": "error",
     "traceback": [
      "\u001b[1;31m---------------------------------------------------------------------------\u001b[0m",
      "\u001b[1;31mIntegrityError\u001b[0m                            Traceback (most recent call last)",
      "Input \u001b[1;32mIn [118]\u001b[0m, in \u001b[0;36m<cell line: 2>\u001b[1;34m()\u001b[0m\n\u001b[0;32m      1\u001b[0m cur\u001b[38;5;241m=\u001b[39mcon\u001b[38;5;241m.\u001b[39mcursor()\n\u001b[1;32m----> 2\u001b[0m \u001b[43mcur\u001b[49m\u001b[38;5;241;43m.\u001b[39;49m\u001b[43mexecute\u001b[49m\u001b[43m(\u001b[49m\u001b[38;5;124;43m\"\u001b[39;49m\u001b[38;5;124;43minsert into employee values(1,\u001b[39;49m\u001b[38;5;124;43m'\u001b[39;49m\u001b[38;5;124;43mjack\u001b[39;49m\u001b[38;5;124;43m'\u001b[39;49m\u001b[38;5;124;43m,9000,\u001b[39;49m\u001b[38;5;124;43m'\u001b[39;49m\u001b[38;5;124;43mhr\u001b[39;49m\u001b[38;5;124;43m'\u001b[39;49m\u001b[38;5;124;43m,\u001b[39;49m\u001b[38;5;124;43m'\u001b[39;49m\u001b[38;5;124;43mmanager\u001b[39;49m\u001b[38;5;124;43m'\u001b[39;49m\u001b[38;5;124;43m,\u001b[39;49m\u001b[38;5;124;43m'\u001b[39;49m\u001b[38;5;124;43m2019-07-09\u001b[39;49m\u001b[38;5;124;43m'\u001b[39;49m\u001b[38;5;124;43m)\u001b[39;49m\u001b[38;5;124;43m\"\u001b[39;49m\u001b[43m)\u001b[49m\n",
      "\u001b[1;31mIntegrityError\u001b[0m: UNIQUE constraint failed: employee.id"
     ]
    }
   ],
   "source": [
    "cur=con.cursor()\n",
    "cur.execute(\"insert into employee values(1,'jack',9000,'hr','manager','2019-07-09')\")"
   ]
  },
  {
   "cell_type": "code",
   "execution_count": 119,
   "id": "a942509f",
   "metadata": {},
   "outputs": [],
   "source": [
    "con.commit;"
   ]
  },
  {
   "cell_type": "code",
   "execution_count": 120,
   "id": "fdc847e5",
   "metadata": {},
   "outputs": [
    {
     "data": {
      "text/plain": [
       "[(1, 'martin', 9000.0, 'hr', 'manager', '2019-07-09'),\n",
       " (2, 'andrew', 7000.0, 'it', 'engineer', '2015-04-06'),\n",
       " (4, 'rudolf', 8000.0, 'it', 'engineer', '2012-08-23')]"
      ]
     },
     "execution_count": 120,
     "metadata": {},
     "output_type": "execute_result"
    }
   ],
   "source": [
    "results=cur.execute(\"select * from employee\")\n",
    "results.fetchall()"
   ]
  },
  {
   "cell_type": "code",
   "execution_count": 125,
   "id": "7984fd14",
   "metadata": {},
   "outputs": [
    {
     "data": {
      "text/plain": [
       "[(1, 'martin'), (2, 'andrew'), (4, 'rudolf')]"
      ]
     },
     "execution_count": 125,
     "metadata": {},
     "output_type": "execute_result"
    }
   ],
   "source": [
    "results=cur.execute(\"select id as empid,name as empname from employee\")\n",
    "results.fetchall()"
   ]
  },
  {
   "cell_type": "raw",
   "id": "1c4fc1fe",
   "metadata": {},
   "source": [
    "we can also pass values/arguments to an INSERT statement in thje execute() method.you can use the\n",
    "question mark(?) as a placeholder for each value. the syntex of the INSERT will be like the following."
   ]
  },
  {
   "cell_type": "raw",
   "id": "7d8b94a5",
   "metadata": {},
   "source": [
    "cur.execute('''insert into emloyee(id,name,salary,department,position,hiredate)\n",
    "values(?,?,?,?,?,?)''',entities)\n",
    "\n",
    "entities=(2,'john',4000'IT','Engineer','2018-02-06')"
   ]
  },
  {
   "cell_type": "code",
   "execution_count": 121,
   "id": "ded3122e",
   "metadata": {},
   "outputs": [],
   "source": [
    "def sql_insert(con,entities):\n",
    "    cur=con.cursor()\n",
    "    cur.execute('insert into employee(id,name,salary,department,position,hiredate) values(?,?,?,?,?,?)',entities)"
   ]
  },
  {
   "cell_type": "code",
   "execution_count": 122,
   "id": "6c48c52a",
   "metadata": {},
   "outputs": [],
   "source": [
    "entities=(2,'andrew',7000,'it','engineer','2015-04-06')"
   ]
  },
  {
   "cell_type": "code",
   "execution_count": 123,
   "id": "cb3cdd30",
   "metadata": {},
   "outputs": [
    {
     "ename": "IntegrityError",
     "evalue": "UNIQUE constraint failed: employee.id",
     "output_type": "error",
     "traceback": [
      "\u001b[1;31m---------------------------------------------------------------------------\u001b[0m",
      "\u001b[1;31mIntegrityError\u001b[0m                            Traceback (most recent call last)",
      "Input \u001b[1;32mIn [123]\u001b[0m, in \u001b[0;36m<cell line: 3>\u001b[1;34m()\u001b[0m\n\u001b[0;32m      1\u001b[0m \u001b[38;5;66;03m#calling sql insert to insert the data\u001b[39;00m\n\u001b[1;32m----> 3\u001b[0m \u001b[43msql_insert\u001b[49m\u001b[43m(\u001b[49m\u001b[43mcon\u001b[49m\u001b[43m,\u001b[49m\u001b[43mentities\u001b[49m\u001b[43m)\u001b[49m\n",
      "Input \u001b[1;32mIn [121]\u001b[0m, in \u001b[0;36msql_insert\u001b[1;34m(con, entities)\u001b[0m\n\u001b[0;32m      1\u001b[0m \u001b[38;5;28;01mdef\u001b[39;00m \u001b[38;5;21msql_insert\u001b[39m(con,entities):\n\u001b[0;32m      2\u001b[0m     cur\u001b[38;5;241m=\u001b[39mcon\u001b[38;5;241m.\u001b[39mcursor()\n\u001b[1;32m----> 3\u001b[0m     \u001b[43mcur\u001b[49m\u001b[38;5;241;43m.\u001b[39;49m\u001b[43mexecute\u001b[49m\u001b[43m(\u001b[49m\u001b[38;5;124;43m'\u001b[39;49m\u001b[38;5;124;43minsert into employee(id,name,salary,department,position,hiredate) values(?,?,?,?,?,?)\u001b[39;49m\u001b[38;5;124;43m'\u001b[39;49m\u001b[43m,\u001b[49m\u001b[43mentities\u001b[49m\u001b[43m)\u001b[49m\n",
      "\u001b[1;31mIntegrityError\u001b[0m: UNIQUE constraint failed: employee.id"
     ]
    }
   ],
   "source": [
    "#calling sql insert to insert the data\n",
    "\n",
    "sql_insert(con,entities)"
   ]
  },
  {
   "cell_type": "code",
   "execution_count": 124,
   "id": "dfbdde1b",
   "metadata": {},
   "outputs": [
    {
     "ename": "SyntaxError",
     "evalue": "invalid syntax (3066824686.py, line 1)",
     "output_type": "error",
     "traceback": [
      "\u001b[1;36m  Input \u001b[1;32mIn [124]\u001b[1;36m\u001b[0m\n\u001b[1;33m    entities=(3, 'thomas', 6000 'hr','manager', '2016-06-04')\u001b[0m\n\u001b[1;37m                                ^\u001b[0m\n\u001b[1;31mSyntaxError\u001b[0m\u001b[1;31m:\u001b[0m invalid syntax\n"
     ]
    }
   ],
   "source": [
    "entities=(3, 'thomas', 6000 'hr','manager', '2016-06-04')"
   ]
  },
  {
   "cell_type": "code",
   "execution_count": 94,
   "id": "98827a07",
   "metadata": {
    "scrolled": true
   },
   "outputs": [
    {
     "ename": "IntegrityError",
     "evalue": "UNIQUE constraint failed: employee.id",
     "output_type": "error",
     "traceback": [
      "\u001b[1;31m---------------------------------------------------------------------------\u001b[0m",
      "\u001b[1;31mIntegrityError\u001b[0m                            Traceback (most recent call last)",
      "Input \u001b[1;32mIn [94]\u001b[0m, in \u001b[0;36m<cell line: 1>\u001b[1;34m()\u001b[0m\n\u001b[1;32m----> 1\u001b[0m \u001b[43msql_insert\u001b[49m\u001b[43m(\u001b[49m\u001b[43mcon\u001b[49m\u001b[43m,\u001b[49m\u001b[43mentities\u001b[49m\u001b[43m)\u001b[49m\n",
      "Input \u001b[1;32mIn [90]\u001b[0m, in \u001b[0;36msql_insert\u001b[1;34m(con, entities)\u001b[0m\n\u001b[0;32m      1\u001b[0m \u001b[38;5;28;01mdef\u001b[39;00m \u001b[38;5;21msql_insert\u001b[39m(con,entities):\n\u001b[0;32m      2\u001b[0m     cur\u001b[38;5;241m=\u001b[39mcon\u001b[38;5;241m.\u001b[39mcursor()\n\u001b[1;32m----> 3\u001b[0m     \u001b[43mcur\u001b[49m\u001b[38;5;241;43m.\u001b[39;49m\u001b[43mexecute\u001b[49m\u001b[43m(\u001b[49m\u001b[38;5;124;43m'\u001b[39;49m\u001b[38;5;124;43minsert into employee(id,name,salary,department,position,hiredate) values(?,?,?,?,?,?)\u001b[39;49m\u001b[38;5;124;43m'\u001b[39;49m\u001b[43m,\u001b[49m\u001b[43mentities\u001b[49m\u001b[43m)\u001b[49m\n",
      "\u001b[1;31mIntegrityError\u001b[0m: UNIQUE constraint failed: employee.id"
     ]
    }
   ],
   "source": [
    "sql_insert(con,entities)"
   ]
  },
  {
   "cell_type": "code",
   "execution_count": 95,
   "id": "66bdd545",
   "metadata": {
    "scrolled": true
   },
   "outputs": [
    {
     "ename": "SyntaxError",
     "evalue": "invalid syntax (3504589594.py, line 1)",
     "output_type": "error",
     "traceback": [
      "\u001b[1;36m  Input \u001b[1;32mIn [95]\u001b[1;36m\u001b[0m\n\u001b[1;33m    results=cur.execute(select * from employee)\u001b[0m\n\u001b[1;37m                                 ^\u001b[0m\n\u001b[1;31mSyntaxError\u001b[0m\u001b[1;31m:\u001b[0m invalid syntax\n"
     ]
    }
   ],
   "source": [
    "results=cur.execute(select * from employee)\n",
    "results.fetchall()\n"
   ]
  },
  {
   "cell_type": "code",
   "execution_count": 97,
   "id": "1259ffc5",
   "metadata": {},
   "outputs": [
    {
     "ename": "ProgrammingError",
     "evalue": "Incorrect number of bindings supplied. The current statement uses 6, and there are 5 supplied.",
     "output_type": "error",
     "traceback": [
      "\u001b[1;31m---------------------------------------------------------------------------\u001b[0m",
      "\u001b[1;31mProgrammingError\u001b[0m                          Traceback (most recent call last)",
      "Input \u001b[1;32mIn [97]\u001b[0m, in \u001b[0;36m<cell line: 6>\u001b[1;34m()\u001b[0m\n\u001b[0;32m      3\u001b[0m sql_insert(con,entities)\n\u001b[0;32m      5\u001b[0m entities\u001b[38;5;241m=\u001b[39m(\u001b[38;5;241m5\u001b[39m, \u001b[38;5;124m'\u001b[39m\u001b[38;5;124msuzen\u001b[39m\u001b[38;5;124m'\u001b[39m, \u001b[38;5;241m10000\u001b[39m, \u001b[38;5;124m'\u001b[39m\u001b[38;5;124msales executive\u001b[39m\u001b[38;5;124m'\u001b[39m, \u001b[38;5;124m'\u001b[39m\u001b[38;5;124m2018-02-19\u001b[39m\u001b[38;5;124m'\u001b[39m)\n\u001b[1;32m----> 6\u001b[0m \u001b[43msql_insert\u001b[49m\u001b[43m(\u001b[49m\u001b[43mcon\u001b[49m\u001b[43m,\u001b[49m\u001b[43mentities\u001b[49m\u001b[43m)\u001b[49m\n",
      "Input \u001b[1;32mIn [90]\u001b[0m, in \u001b[0;36msql_insert\u001b[1;34m(con, entities)\u001b[0m\n\u001b[0;32m      1\u001b[0m \u001b[38;5;28;01mdef\u001b[39;00m \u001b[38;5;21msql_insert\u001b[39m(con,entities):\n\u001b[0;32m      2\u001b[0m     cur\u001b[38;5;241m=\u001b[39mcon\u001b[38;5;241m.\u001b[39mcursor()\n\u001b[1;32m----> 3\u001b[0m     \u001b[43mcur\u001b[49m\u001b[38;5;241;43m.\u001b[39;49m\u001b[43mexecute\u001b[49m\u001b[43m(\u001b[49m\u001b[38;5;124;43m'\u001b[39;49m\u001b[38;5;124;43minsert into employee(id,name,salary,department,position,hiredate) values(?,?,?,?,?,?)\u001b[39;49m\u001b[38;5;124;43m'\u001b[39;49m\u001b[43m,\u001b[49m\u001b[43mentities\u001b[49m\u001b[43m)\u001b[49m\n",
      "\u001b[1;31mProgrammingError\u001b[0m: Incorrect number of bindings supplied. The current statement uses 6, and there are 5 supplied."
     ]
    }
   ],
   "source": [
    "entities=(4, 'rudolf', 8000, 'it', 'engineer', '2012-08-23')\n",
    "\n",
    "sql_insert(con,entities)\n",
    "\n",
    "entities=(5, 'suzen', 10000, 'sales executive', '2018-02-19')\n",
    "\n",
    "sql_insert(con,entities)\n"
   ]
  },
  {
   "cell_type": "code",
   "execution_count": 98,
   "id": "6829efc3",
   "metadata": {},
   "outputs": [
    {
     "data": {
      "text/plain": [
       "[(1, 'jack', 9000.0, 'hr', 'manager', '2019-07-09'),\n",
       " (2, 'andrew', 7000.0, 'it', 'engineer', '2015-04-06'),\n",
       " (4, 'rudolf', 8000.0, 'it', 'engineer', '2012-08-23')]"
      ]
     },
     "execution_count": 98,
     "metadata": {},
     "output_type": "execute_result"
    }
   ],
   "source": [
    "results=cur.execute(\"select * from employee\")\n",
    "results.fetchall()"
   ]
  },
  {
   "cell_type": "code",
   "execution_count": 99,
   "id": "73e9163a",
   "metadata": {},
   "outputs": [],
   "source": [
    "def sql_update(con):\n",
    "    cur=con.cursor()\n",
    "    cur.execute('update employee set name=\"martin\" where id=1')\n",
    "    con.commit()"
   ]
  },
  {
   "cell_type": "code",
   "execution_count": 100,
   "id": "588ad516",
   "metadata": {},
   "outputs": [],
   "source": [
    "sql_update(con)"
   ]
  },
  {
   "cell_type": "code",
   "execution_count": 101,
   "id": "7af85130",
   "metadata": {},
   "outputs": [
    {
     "data": {
      "text/plain": [
       "[(1, 'martin', 9000.0, 'hr', 'manager', '2019-07-09'),\n",
       " (2, 'andrew', 7000.0, 'it', 'engineer', '2015-04-06'),\n",
       " (4, 'rudolf', 8000.0, 'it', 'engineer', '2012-08-23')]"
      ]
     },
     "execution_count": 101,
     "metadata": {},
     "output_type": "execute_result"
    }
   ],
   "source": [
    "results=cur.execute(\"select * from employee\")\n",
    "results.fetchall()"
   ]
  },
  {
   "cell_type": "code",
   "execution_count": 102,
   "id": "a06cbf61",
   "metadata": {},
   "outputs": [
    {
     "data": {
      "text/plain": [
       "[(1, 'martin'), (2, 'andrew'), (4, 'rudolf')]"
      ]
     },
     "execution_count": 102,
     "metadata": {},
     "output_type": "execute_result"
    }
   ],
   "source": [
    "results=cur.execute('select id, name from employee')\n",
    "results.fetchall()"
   ]
  },
  {
   "cell_type": "code",
   "execution_count": 104,
   "id": "d4748885",
   "metadata": {},
   "outputs": [
    {
     "data": {
      "text/plain": [
       "[(1, 'martin')]"
      ]
     },
     "execution_count": 104,
     "metadata": {},
     "output_type": "execute_result"
    }
   ],
   "source": [
    "results=cur.execute('select id,name from employee where salary >8000')\n",
    "\n",
    "results.fetchall()"
   ]
  },
  {
   "cell_type": "code",
   "execution_count": 105,
   "id": "f18e8894",
   "metadata": {},
   "outputs": [
    {
     "data": {
      "text/plain": [
       "[(1, 'martin')]"
      ]
     },
     "execution_count": 105,
     "metadata": {},
     "output_type": "execute_result"
    }
   ],
   "source": [
    "results=cur.execute(\"select id,name from employee where department in ('hr')\")\n",
    "results.fetchall()"
   ]
  },
  {
   "cell_type": "code",
   "execution_count": 106,
   "id": "cc6e32cb",
   "metadata": {},
   "outputs": [
    {
     "data": {
      "text/plain": [
       "[(7000.0,)]"
      ]
     },
     "execution_count": 106,
     "metadata": {},
     "output_type": "execute_result"
    }
   ],
   "source": [
    "results=cur.execute(\"select min(salary) from employee\")\n",
    "results.fetchall()"
   ]
  },
  {
   "cell_type": "code",
   "execution_count": 107,
   "id": "24ff24e0",
   "metadata": {},
   "outputs": [
    {
     "data": {
      "text/plain": [
       "[(3,)]"
      ]
     },
     "execution_count": 107,
     "metadata": {},
     "output_type": "execute_result"
    }
   ],
   "source": [
    "results=cur.execute(\"select count(id) from employee\")\n",
    "results.fetchall()"
   ]
  },
  {
   "cell_type": "code",
   "execution_count": 108,
   "id": "eb636c21",
   "metadata": {},
   "outputs": [
    {
     "data": {
      "text/plain": [
       "[('hr',), ('it',)]"
      ]
     },
     "execution_count": 108,
     "metadata": {},
     "output_type": "execute_result"
    }
   ],
   "source": [
    "results=cur.execute(\"select distinct(department) from employee\")\n",
    "results.fetchall()"
   ]
  },
  {
   "cell_type": "code",
   "execution_count": 109,
   "id": "61d4e7ba",
   "metadata": {},
   "outputs": [
    {
     "data": {
      "text/plain": [
       "[(2,)]"
      ]
     },
     "execution_count": 109,
     "metadata": {},
     "output_type": "execute_result"
    }
   ],
   "source": [
    "results=cur.execute(\"select count(distinct(department)) from employee\")\n",
    "results.fetchall()"
   ]
  },
  {
   "cell_type": "code",
   "execution_count": 110,
   "id": "b3e5d8f2",
   "metadata": {},
   "outputs": [
    {
     "data": {
      "text/plain": [
       "[(15000.0, 'engineer'), (9000.0, 'manager')]"
      ]
     },
     "execution_count": 110,
     "metadata": {},
     "output_type": "execute_result"
    }
   ],
   "source": [
    "results=cur.execute(\"select sum(salary),position from employee group by position\")\n",
    "results.fetchall()"
   ]
  },
  {
   "cell_type": "code",
   "execution_count": 111,
   "id": "ec0b53fc",
   "metadata": {},
   "outputs": [
    {
     "data": {
      "text/plain": [
       "[(9000.0, 'hr'), (15000.0, 'it')]"
      ]
     },
     "execution_count": 111,
     "metadata": {},
     "output_type": "execute_result"
    }
   ],
   "source": [
    "results=cur.execute(\"select sum(salary),department from employee group by department\")\n",
    "results.fetchall()"
   ]
  },
  {
   "cell_type": "code",
   "execution_count": 112,
   "id": "e201e977",
   "metadata": {},
   "outputs": [],
   "source": [
    "def sql_query(sql):\n",
    "    cur=con.cursor()\n",
    "    results=cur.execute(sql)\n",
    "    return results"
   ]
  },
  {
   "cell_type": "code",
   "execution_count": 114,
   "id": "0dfada80",
   "metadata": {},
   "outputs": [
    {
     "data": {
      "text/plain": [
       "[(1, 'martin', 9000.0, 'hr', 'manager', '2019-07-09'),\n",
       " (2, 'andrew', 7000.0, 'it', 'engineer', '2015-04-06'),\n",
       " (4, 'rudolf', 8000.0, 'it', 'engineer', '2012-08-23')]"
      ]
     },
     "execution_count": 114,
     "metadata": {},
     "output_type": "execute_result"
    }
   ],
   "source": [
    "# make query\n",
    "sql=\"select * from employee\"\n",
    "\n",
    "# pass query in function\n",
    "respond=sql_query(sql)\n",
    "respond.fetchall()"
   ]
  },
  {
   "cell_type": "code",
   "execution_count": 115,
   "id": "c90f1124",
   "metadata": {},
   "outputs": [
    {
     "data": {
      "text/plain": [
       "[(1, 'martin', 'manager'),\n",
       " (2, 'andrew', 'engineer'),\n",
       " (4, 'rudolf', 'engineer')]"
      ]
     },
     "execution_count": 115,
     "metadata": {},
     "output_type": "execute_result"
    }
   ],
   "source": [
    "sql=\"select id, name, position from employee\"\n",
    "\n",
    "#pass query in function\n",
    "respond=sql_query(sql)\n",
    "respond.fetchall()"
   ]
  },
  {
   "cell_type": "code",
   "execution_count": null,
   "id": "0a8437a3",
   "metadata": {},
   "outputs": [],
   "source": []
  }
 ],
 "metadata": {
  "kernelspec": {
   "display_name": "Python 3 (ipykernel)",
   "language": "python",
   "name": "python3"
  },
  "language_info": {
   "codemirror_mode": {
    "name": "ipython",
    "version": 3
   },
   "file_extension": ".py",
   "mimetype": "text/x-python",
   "name": "python",
   "nbconvert_exporter": "python",
   "pygments_lexer": "ipython3",
   "version": "3.9.13"
  }
 },
 "nbformat": 4,
 "nbformat_minor": 5
}
